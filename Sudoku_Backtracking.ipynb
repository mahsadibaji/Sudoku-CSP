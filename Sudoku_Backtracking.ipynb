{
  "nbformat": 4,
  "nbformat_minor": 0,
  "metadata": {
    "colab": {
      "name": "Sudoku Backtracking.ipynb",
      "provenance": [],
      "collapsed_sections": []
    },
    "kernelspec": {
      "name": "python3",
      "display_name": "Python 3"
    },
    "language_info": {
      "name": "python"
    }
  },
  "cells": [
    {
      "cell_type": "markdown",
      "metadata": {
        "id": "n-xCYVdZceYv"
      },
      "source": [
        "**Authentication** "
      ]
    },
    {
      "cell_type": "code",
      "metadata": {
        "id": "nAuFqbdimzxK"
      },
      "source": [
        "from pydrive.auth import GoogleAuth\n",
        "from pydrive.drive import GoogleDrive\n",
        "from google.colab import auth\n",
        "from oauth2client.client import GoogleCredentials"
      ],
      "execution_count": 1,
      "outputs": []
    },
    {
      "cell_type": "code",
      "metadata": {
        "id": "XOdOzX-DoV3-"
      },
      "source": [
        "auth.authenticate_user()\n",
        "gauth = GoogleAuth()\n",
        "gauth.credentials = GoogleCredentials.get_application_default()\n",
        "drive = GoogleDrive(gauth)"
      ],
      "execution_count": 2,
      "outputs": []
    },
    {
      "cell_type": "code",
      "metadata": {
        "id": "xn9TrN0hnEgP"
      },
      "source": [
        "def load_file_from_drive(id, name):\n",
        "    downloaded = drive.CreateFile({'id':id})\n",
        "    downloaded.GetContentFile(name,mimetype='text/csv')"
      ],
      "execution_count": 3,
      "outputs": []
    },
    {
      "cell_type": "markdown",
      "metadata": {
        "id": "cdrBXvztcY-M"
      },
      "source": [
        "**imports**"
      ]
    },
    {
      "cell_type": "code",
      "metadata": {
        "id": "grx-NwAC7Q0D"
      },
      "source": [
        "import time\n",
        "\n",
        "import pandas as pd\n",
        "import numpy as np\n",
        "\n",
        "from operator import or_\n",
        "import functools"
      ],
      "execution_count": 4,
      "outputs": []
    },
    {
      "cell_type": "markdown",
      "metadata": {
        "id": "l61iU1ZQdI3O"
      },
      "source": [
        "**load sudoku examples data**"
      ]
    },
    {
      "cell_type": "markdown",
      "metadata": {
        "id": "i6WTdRUqfd-v"
      },
      "source": [
        "1 million Sudoku games from [kaggle](https://www.kaggle.com/bryanpark/sudoku/data#)"
      ]
    },
    {
      "cell_type": "code",
      "metadata": {
        "id": "ToTvZL4PnpNV"
      },
      "source": [
        "load_file_from_drive('1mVFwkSB4Y-VHGVIn0aTiBrx-Hk5YBo0Z', 'sudoku.csv')"
      ],
      "execution_count": 5,
      "outputs": []
    },
    {
      "cell_type": "code",
      "metadata": {
        "id": "4TiYbTBb_sYv"
      },
      "source": [
        "sudokus = pd.read_csv('sudoku.csv')"
      ],
      "execution_count": 6,
      "outputs": []
    },
    {
      "cell_type": "markdown",
      "metadata": {
        "id": "5zYctsAgdRly"
      },
      "source": [
        "**backtracking with mrv and degree heuristics**"
      ]
    },
    {
      "cell_type": "code",
      "metadata": {
        "id": "mKsMpnyabkBI"
      },
      "source": [
        "def create_grid(string):\n",
        "    grid = []\n",
        "    for i in range(0,len(string),9):\n",
        "        row = [int(i) for i in string[i:i+9]]\n",
        "        grid.append(row)\n",
        "    return grid"
      ],
      "execution_count": 7,
      "outputs": []
    },
    {
      "cell_type": "code",
      "metadata": {
        "id": "mCcTE1Xh6uio"
      },
      "source": [
        "def get_square(grid,row,col):\n",
        "    sq_row = (row//3)*3\n",
        "    sq_col = (col//3)*3\n",
        "    sq=[]\n",
        "    for i in range(sq_row,sq_row+3):\n",
        "        for j in range(sq_col,sq_col+3):\n",
        "            sq.append(grid[i][j])\n",
        "    return sq"
      ],
      "execution_count": 8,
      "outputs": []
    },
    {
      "cell_type": "code",
      "metadata": {
        "id": "ovXv4YyKgerV"
      },
      "source": [
        "def is_consistent(grid,row,col,num):\n",
        "    width = len(grid)\n",
        "    for i in range(width):\n",
        "        if grid[i][col] == num or grid[row][i] == num: return False\n",
        "\n",
        "    if num in get_square(grid,row,col) : return False\n",
        "\n",
        "    return True"
      ],
      "execution_count": 9,
      "outputs": []
    },
    {
      "cell_type": "code",
      "metadata": {
        "id": "LkzBl1LpRqMc"
      },
      "source": [
        "def is_complete(grid):\n",
        "    for row in grid:\n",
        "        for var in row:\n",
        "            if var == 0: return False\n",
        "    return True"
      ],
      "execution_count": 10,
      "outputs": []
    },
    {
      "cell_type": "code",
      "metadata": {
        "id": "fMtQDl9pmDgO"
      },
      "source": [
        "def get_domain(grid,row,col):\n",
        "    '''\n",
        "    returns domain(consistent values) of a position\n",
        "    '''\n",
        "    values = list(range(1,len(grid)+1))\n",
        "    domain = []\n",
        "    for n in values:\n",
        "        if is_consistent(grid,row,col,n):\n",
        "            domain.append(n)\n",
        "    return domain"
      ],
      "execution_count": 28,
      "outputs": []
    },
    {
      "cell_type": "code",
      "metadata": {
        "id": "t8UsT28x7xDg"
      },
      "source": [
        "def mrv_domains(grid):\n",
        "    '''\n",
        "    returns coordiantes of cells \n",
        "    which have minimum-remaining-values (smallest domains)\n",
        "    '''\n",
        "    domains_dict = {}\n",
        "    for i in range(len(grid)):\n",
        "        for j in range(len(grid)):\n",
        "            if grid[i][j] == 0:\n",
        "                domains_dict[i,j] = get_domain(grid,i,j)\n",
        "\n",
        "    min_remain_val = None\n",
        "\n",
        "    for domain in domains_dict.values():\n",
        "        if min_remain_val is None:\n",
        "            min_remain_val = len(domain)\n",
        "            continue\n",
        "        min_remain_val = min(min_remain_val, len(domain))\n",
        "\n",
        "    if min_remain_val == 0: return None #sudoku cannot be solved\n",
        "\n",
        "    min_domains = {k: domains_dict[k]\n",
        "                   for k in domains_dict.keys()\n",
        "                   if len(domains_dict[k]) == min_remain_val}\n",
        "    return min_domains"
      ],
      "execution_count": 12,
      "outputs": []
    },
    {
      "cell_type": "code",
      "metadata": {
        "id": "kSsHO7mkvhFr"
      },
      "source": [
        "def get_degree(grid, row, col):\n",
        "    '''\n",
        "    returns number of cells in a given cell's corresponding row,column and block\n",
        "    which are not assigned yet.\n",
        "    '''\n",
        "    degree = 0\n",
        "    for i in range(0,len(grid)):\n",
        "        if grid[i][col] == 0: degree+=1\n",
        "        if grid[row][i] == 0: degree+=1\n",
        "    for var in get_square(grid, row, col):\n",
        "        if var == 0: degree+=1\n",
        "    return degree"
      ],
      "execution_count": 13,
      "outputs": []
    },
    {
      "cell_type": "code",
      "metadata": {
        "id": "-j73Brrj_NKm"
      },
      "source": [
        "def get_max_degree(blocks):\n",
        "    '''\n",
        "    returns coordinates of the cell with maximum degree\n",
        "    '''\n",
        "    max_degree = None\n",
        "    row = None\n",
        "    col = None\n",
        "    for i,j in blocks:\n",
        "        degree = get_degree(grid,i,j)\n",
        "\n",
        "        if max_degree is None:\n",
        "            max_degree = degree\n",
        "            row, col = i,j\n",
        "            continue\n",
        "\n",
        "        if degree > max_degree:\n",
        "            max_degree = degree\n",
        "            row, col = i,j\n",
        "    return row, col"
      ],
      "execution_count": 14,
      "outputs": []
    },
    {
      "cell_type": "code",
      "metadata": {
        "id": "4SDUh_GZGPs8"
      },
      "source": [
        "def select_unassigned_var(grid):\n",
        "    '''\n",
        "    select a cell for assigning based on mrv and degree heuristics.\n",
        "    '''\n",
        "    min_domains = mrv_domains(grid)\n",
        "\n",
        "    if not min_domains:\n",
        "        return None, None, []\n",
        "\n",
        "    if len(min_domains) == 1:\n",
        "        (row,col),dom = min_domains.popitem()\n",
        "        return row, col, dom\n",
        "    \n",
        "    row, col = get_max_degree(min_domains.keys())\n",
        "\n",
        "    dom = min_domains[row,col]\n",
        "    return row, col, dom"
      ],
      "execution_count": 15,
      "outputs": []
    },
    {
      "cell_type": "code",
      "metadata": {
        "id": "zXch4Nw-Rj6z"
      },
      "source": [
        "def backtracking_search(grid):\n",
        "\n",
        "    if is_complete(grid):\n",
        "        return grid\n",
        "\n",
        "    row, col, domain = select_unassigned_var(grid)\n",
        "\n",
        "    for val in domain:\n",
        "        \n",
        "        if not is_consistent(grid, row, col, val): continue\n",
        "        \n",
        "        grid[row][col] = val\n",
        "        result = backtracking_search(grid)\n",
        "        if result:\n",
        "            return result\n",
        "        grid[row][col] = 0\n",
        "    return False"
      ],
      "execution_count": 16,
      "outputs": []
    },
    {
      "cell_type": "markdown",
      "metadata": {
        "id": "u_aXSImfkEKU"
      },
      "source": [
        "**run**"
      ]
    },
    {
      "cell_type": "code",
      "metadata": {
        "id": "irEn1lzkJ-XT"
      },
      "source": [
        "sudoku_list = list(sudokus['quizzes'])[:100]\n",
        "solutions = list(sudokus['solutions'])[:100]\n",
        "bt_solutions = []"
      ],
      "execution_count": 17,
      "outputs": []
    },
    {
      "cell_type": "code",
      "metadata": {
        "id": "r6vaoAH1IK_l"
      },
      "source": [
        "times = []\n",
        "\n",
        "for sudoku in sudoku_list:\n",
        "    grid = create_grid(sudoku)\n",
        "    \n",
        "    s_time = time.time()\n",
        "\n",
        "    bt_solutions.append(backtracking_search(grid))\n",
        "\n",
        "    times.append(time.time() - s_time) \n",
        "\n",
        "for i in range(len(bt_solutions)):\n",
        "    sol_str = ''\n",
        "    for row in bt_solutions[i]:\n",
        "        for var in row:\n",
        "            sol_str+=str(var)\n",
        "    bt_solutions[i] = sol_str"
      ],
      "execution_count": 18,
      "outputs": []
    },
    {
      "cell_type": "code",
      "metadata": {
        "colab": {
          "base_uri": "https://localhost:8080/"
        },
        "id": "LOBcGimXINZf",
        "outputId": "94910e22-c1c4-45a1-e311-46d66b9a597f"
      },
      "source": [
        "# total time\n",
        "sum(times)"
      ],
      "execution_count": 19,
      "outputs": [
        {
          "output_type": "execute_result",
          "data": {
            "text/plain": [
              "8.440193176269531"
            ]
          },
          "metadata": {
            "tags": []
          },
          "execution_count": 19
        }
      ]
    },
    {
      "cell_type": "code",
      "metadata": {
        "colab": {
          "base_uri": "https://localhost:8080/"
        },
        "id": "AoXLxRDRR7-y",
        "outputId": "581f9661-a090-48b8-cb30-28a55f89f4db"
      },
      "source": [
        "from statistics import mean\n",
        "# avg time for each sudoku\n",
        "mean(times)"
      ],
      "execution_count": 20,
      "outputs": [
        {
          "output_type": "execute_result",
          "data": {
            "text/plain": [
              "0.08440193176269531"
            ]
          },
          "metadata": {
            "tags": []
          },
          "execution_count": 20
        }
      ]
    },
    {
      "cell_type": "code",
      "metadata": {
        "colab": {
          "base_uri": "https://localhost:8080/"
        },
        "id": "tA6rpO9nMCzj",
        "outputId": "eee36770-df1c-4371-f437-32f5883434f0"
      },
      "source": [
        "bt_solutions == solutions"
      ],
      "execution_count": 21,
      "outputs": [
        {
          "output_type": "execute_result",
          "data": {
            "text/plain": [
              "True"
            ]
          },
          "metadata": {
            "tags": []
          },
          "execution_count": 21
        }
      ]
    }
  ]
}